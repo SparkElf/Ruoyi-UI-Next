{
 "cells": [
  {
   "cell_type": "code",
   "execution_count": 6,
   "metadata": {},
   "outputs": [],
   "source": [
    "import re\n",
    "#@element-plus/icons-vue 注册为全局组件\n",
    "def replace_export_with_import(file_path):\n",
    "    with open(file_path, 'r', encoding='utf-8') as file:\n",
    "        content = file.readlines()\n",
    "    pattern = re.compile(r'export\\s*{\\s*default\\s*as\\s*(\\w+)\\s*}')\n",
    "    for (i,line) in enumerate(content):\n",
    "        replace_content = pattern.search( line)\n",
    "        if replace_content is None:continue\n",
    "        replace_content=replace_content.group(1)\n",
    "        content[i] = 'import {'+ replace_content + ' as Icon'+ replace_content+ ' } from \"@element-plus/icons-vue\";\\n'\n",
    "\n",
    "    with open('iconnew.d.ts', 'w', encoding='utf-8') as file:\n",
    "\n",
    "        for line in content:\n",
    "            file.write(line)\n",
    "        file.writelines(\"\"\"\n",
    "declare module 'vue' {\n",
    "    export interface GlobalComponents {\n",
    "        \"\"\")\n",
    "        pattern = re.compile(r'import\\s*{(\\w+)')\n",
    "        for line in content:\n",
    "            replace_content = pattern.search( line)\n",
    "            file.write(\"'Icon\"+replace_content.group(1)+\"': typeof Icon\"+replace_content.group(1)+\"\\n\")\n",
    "        file.writelines(\"\"\"\n",
    "} }\n",
    "\"\"\")\n",
    "\n",
    "if __name__ == '__main__':\n",
    "    replace_export_with_import('../icon.d.ts')"
   ]
  }
 ],
 "metadata": {
  "kernelspec": {
   "display_name": "Python 3",
   "language": "python",
   "name": "python3"
  },
  "language_info": {
   "codemirror_mode": {
    "name": "ipython",
    "version": 3
   },
   "file_extension": ".py",
   "mimetype": "text/x-python",
   "name": "python",
   "nbconvert_exporter": "python",
   "pygments_lexer": "ipython3",
   "version": "3.11.7"
  }
 },
 "nbformat": 4,
 "nbformat_minor": 2
}
